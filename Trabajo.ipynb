{
 "cells": [
  {
   "cell_type": "code",
   "execution_count": 22,
   "id": "ea86502a",
   "metadata": {},
   "outputs": [],
   "source": [
    "import numpy as np\n",
    "import matplotlib.pyplot as plt\n",
    "import pandas as pd\n",
    "import seaborn as sns\n",
    "%matplotlib inline\n",
    "\n",
    "from sklearn.linear_model import LinearRegression\n",
    "from sklearn.metrics import mean_squared_error"
   ]
  },
  {
   "cell_type": "code",
   "execution_count": 23,
   "id": "edf28c95",
   "metadata": {},
   "outputs": [
    {
     "data": {
      "text/plain": [
       "Index(['Week', 'Day', 'Nonurgent', 'Urgent', 'OrderA', 'OrderB', 'OrderC',\n",
       "       'Fiscalorder', 'trafficorder', 'Banking1', 'Banking2', 'Banking3',\n",
       "       'Total'],\n",
       "      dtype='object')"
      ]
     },
     "execution_count": 23,
     "metadata": {},
     "output_type": "execute_result"
    }
   ],
   "source": [
    "datos = pd.read_json('IA.json')\n",
    "datos.columns"
   ]
  },
  {
   "cell_type": "code",
   "execution_count": 24,
   "id": "f4dede1d",
   "metadata": {},
   "outputs": [],
   "source": [
    "x = datos.iloc[:, :-1].values\n",
    "y = datos.iloc[:, :4].values"
   ]
  },
  {
   "cell_type": "code",
   "execution_count": 25,
   "id": "599a8a68",
   "metadata": {},
   "outputs": [
    {
     "data": {
      "text/html": [
       "<div>\n",
       "<style scoped>\n",
       "    .dataframe tbody tr th:only-of-type {\n",
       "        vertical-align: middle;\n",
       "    }\n",
       "\n",
       "    .dataframe tbody tr th {\n",
       "        vertical-align: top;\n",
       "    }\n",
       "\n",
       "    .dataframe thead th {\n",
       "        text-align: right;\n",
       "    }\n",
       "</style>\n",
       "<table border=\"1\" class=\"dataframe\">\n",
       "  <thead>\n",
       "    <tr style=\"text-align: right;\">\n",
       "      <th></th>\n",
       "      <th>Week</th>\n",
       "      <th>Day</th>\n",
       "      <th>Nonurgent</th>\n",
       "      <th>Urgent</th>\n",
       "      <th>OrderA</th>\n",
       "      <th>OrderB</th>\n",
       "      <th>OrderC</th>\n",
       "      <th>Fiscalorder</th>\n",
       "      <th>trafficorder</th>\n",
       "      <th>Banking1</th>\n",
       "      <th>Banking2</th>\n",
       "      <th>Banking3</th>\n",
       "      <th>Total</th>\n",
       "    </tr>\n",
       "  </thead>\n",
       "  <tbody>\n",
       "    <tr>\n",
       "      <th>0</th>\n",
       "      <td>1</td>\n",
       "      <td>4</td>\n",
       "      <td>316.307</td>\n",
       "      <td>223.270</td>\n",
       "      <td>61.543</td>\n",
       "      <td>175.586</td>\n",
       "      <td>302.448</td>\n",
       "      <td>0.000</td>\n",
       "      <td>65556</td>\n",
       "      <td>44914</td>\n",
       "      <td>188411</td>\n",
       "      <td>14793</td>\n",
       "      <td>539.577</td>\n",
       "    </tr>\n",
       "    <tr>\n",
       "      <th>1</th>\n",
       "      <td>1</td>\n",
       "      <td>5</td>\n",
       "      <td>128.633</td>\n",
       "      <td>96.042</td>\n",
       "      <td>38.058</td>\n",
       "      <td>56.037</td>\n",
       "      <td>130.580</td>\n",
       "      <td>0.000</td>\n",
       "      <td>40419</td>\n",
       "      <td>21399</td>\n",
       "      <td>89461</td>\n",
       "      <td>7679</td>\n",
       "      <td>224.675</td>\n",
       "    </tr>\n",
       "    <tr>\n",
       "      <th>2</th>\n",
       "      <td>1</td>\n",
       "      <td>6</td>\n",
       "      <td>43.651</td>\n",
       "      <td>84.375</td>\n",
       "      <td>21.826</td>\n",
       "      <td>25.125</td>\n",
       "      <td>82.461</td>\n",
       "      <td>1.386</td>\n",
       "      <td>11992</td>\n",
       "      <td>3452</td>\n",
       "      <td>21305</td>\n",
       "      <td>14947</td>\n",
       "      <td>129.412</td>\n",
       "    </tr>\n",
       "    <tr>\n",
       "      <th>3</th>\n",
       "      <td>2</td>\n",
       "      <td>2</td>\n",
       "      <td>171.297</td>\n",
       "      <td>127.667</td>\n",
       "      <td>41.542</td>\n",
       "      <td>113.294</td>\n",
       "      <td>162.284</td>\n",
       "      <td>18.156</td>\n",
       "      <td>49971</td>\n",
       "      <td>33703</td>\n",
       "      <td>69054</td>\n",
       "      <td>18423</td>\n",
       "      <td>317.120</td>\n",
       "    </tr>\n",
       "    <tr>\n",
       "      <th>4</th>\n",
       "      <td>2</td>\n",
       "      <td>3</td>\n",
       "      <td>90.532</td>\n",
       "      <td>113.526</td>\n",
       "      <td>37.679</td>\n",
       "      <td>56.618</td>\n",
       "      <td>116.220</td>\n",
       "      <td>6.459</td>\n",
       "      <td>48534</td>\n",
       "      <td>19646</td>\n",
       "      <td>16411</td>\n",
       "      <td>20257</td>\n",
       "      <td>210.517</td>\n",
       "    </tr>\n",
       "  </tbody>\n",
       "</table>\n",
       "</div>"
      ],
      "text/plain": [
       "   Week  Day  Nonurgent   Urgent  OrderA   OrderB   OrderC  Fiscalorder  \\\n",
       "0     1    4    316.307  223.270  61.543  175.586  302.448        0.000   \n",
       "1     1    5    128.633   96.042  38.058   56.037  130.580        0.000   \n",
       "2     1    6     43.651   84.375  21.826   25.125   82.461        1.386   \n",
       "3     2    2    171.297  127.667  41.542  113.294  162.284       18.156   \n",
       "4     2    3     90.532  113.526  37.679   56.618  116.220        6.459   \n",
       "\n",
       "   trafficorder  Banking1  Banking2  Banking3    Total  \n",
       "0         65556     44914    188411     14793  539.577  \n",
       "1         40419     21399     89461      7679  224.675  \n",
       "2         11992      3452     21305     14947  129.412  \n",
       "3         49971     33703     69054     18423  317.120  \n",
       "4         48534     19646     16411     20257  210.517  "
      ]
     },
     "execution_count": 25,
     "metadata": {},
     "output_type": "execute_result"
    }
   ],
   "source": [
    "datos.head()"
   ]
  },
  {
   "cell_type": "code",
   "execution_count": 26,
   "id": "ae84fe50",
   "metadata": {},
   "outputs": [
    {
     "data": {
      "text/plain": [
       "<Axes: >"
      ]
     },
     "execution_count": 26,
     "metadata": {},
     "output_type": "execute_result"
    },
    {
     "data": {
      "image/png": "[encoded data removed]",
      "text/plain": [
       "<Figure size 640x480 with 2 Axes>"
      ]
     },
     "metadata": {},
     "output_type": "display_data"
    }
   ],
   "source": [
    "sns.heatmap(datos.corr())"
   ]
  },
  {
   "cell_type": "code",
   "execution_count": 14,
   "id": "da8456d2",
   "metadata": {},
   "outputs": [],
   "source": [
    "from sklearn.model_selection import train_test_split\n",
    "x_train, x_test, y_train, y_test = train_test_split(x,y,test_size = 0.2, random_state = 0)"
   ]
  },
  {
   "cell_type": "code",
   "execution_count": 17,
   "id": "e5c8fdb1",
   "metadata": {},
   "outputs": [
    {
     "data": {
      "text/html": [
       "<style>#sk-container-id-2 {color: black;}#sk-container-id-2 pre{padding: 0;}#sk-container-id-2 div.sk-toggleable {background-color: white;}#sk-container-id-2 label.sk-toggleable__label {cursor: pointer;display: block;width: 100%;margin-bottom: 0;padding: 0.3em;box-sizing: border-box;text-align: center;}#sk-container-id-2 label.sk-toggleable__label-arrow:before {content: \"▸\";float: left;margin-right: 0.25em;color: #696969;}#sk-container-id-2 label.sk-toggleable__label-arrow:hover:before {color: black;}#sk-container-id-2 div.sk-estimator:hover label.sk-toggleable__label-arrow:before {color: black;}#sk-container-id-2 div.sk-toggleable__content {max-height: 0;max-width: 0;overflow: hidden;text-align: left;background-color: #f0f8ff;}#sk-container-id-2 div.sk-toggleable__content pre {margin: 0.2em;color: black;border-radius: 0.25em;background-color: #f0f8ff;}#sk-container-id-2 input.sk-toggleable__control:checked~div.sk-toggleable__content {max-height: 200px;max-width: 100%;overflow: auto;}#sk-container-id-2 input.sk-toggleable__control:checked~label.sk-toggleable__label-arrow:before {content: \"▾\";}#sk-container-id-2 div.sk-estimator input.sk-toggleable__control:checked~label.sk-toggleable__label {background-color: #d4ebff;}#sk-container-id-2 div.sk-label input.sk-toggleable__control:checked~label.sk-toggleable__label {background-color: #d4ebff;}#sk-container-id-2 input.sk-hidden--visually {border: 0;clip: rect(1px 1px 1px 1px);clip: rect(1px, 1px, 1px, 1px);height: 1px;margin: -1px;overflow: hidden;padding: 0;position: absolute;width: 1px;}#sk-container-id-2 div.sk-estimator {font-family: monospace;background-color: #f0f8ff;border: 1px dotted black;border-radius: 0.25em;box-sizing: border-box;margin-bottom: 0.5em;}#sk-container-id-2 div.sk-estimator:hover {background-color: #d4ebff;}#sk-container-id-2 div.sk-parallel-item::after {content: \"\";width: 100%;border-bottom: 1px solid gray;flex-grow: 1;}#sk-container-id-2 div.sk-label:hover label.sk-toggleable__label {background-color: #d4ebff;}#sk-container-id-2 div.sk-serial::before {content: \"\";position: absolute;border-left: 1px solid gray;box-sizing: border-box;top: 0;bottom: 0;left: 50%;z-index: 0;}#sk-container-id-2 div.sk-serial {display: flex;flex-direction: column;align-items: center;background-color: white;padding-right: 0.2em;padding-left: 0.2em;position: relative;}#sk-container-id-2 div.sk-item {position: relative;z-index: 1;}#sk-container-id-2 div.sk-parallel {display: flex;align-items: stretch;justify-content: center;background-color: white;position: relative;}#sk-container-id-2 div.sk-item::before, #sk-container-id-2 div.sk-parallel-item::before {content: \"\";position: absolute;border-left: 1px solid gray;box-sizing: border-box;top: 0;bottom: 0;left: 50%;z-index: -1;}#sk-container-id-2 div.sk-parallel-item {display: flex;flex-direction: column;z-index: 1;position: relative;background-color: white;}#sk-container-id-2 div.sk-parallel-item:first-child::after {align-self: flex-end;width: 50%;}#sk-container-id-2 div.sk-parallel-item:last-child::after {align-self: flex-start;width: 50%;}#sk-container-id-2 div.sk-parallel-item:only-child::after {width: 0;}#sk-container-id-2 div.sk-dashed-wrapped {border: 1px dashed gray;margin: 0 0.4em 0.5em 0.4em;box-sizing: border-box;padding-bottom: 0.4em;background-color: white;}#sk-container-id-2 div.sk-label label {font-family: monospace;font-weight: bold;display: inline-block;line-height: 1.2em;}#sk-container-id-2 div.sk-label-container {text-align: center;}#sk-container-id-2 div.sk-container {/* jupyter's `normalize.less` sets `[hidden] { display: none; }` but bootstrap.min.css set `[hidden] { display: none !important; }` so we also need the `!important` here to be able to override the default hidden behavior on the sphinx rendered scikit-learn.org. See: https://github.com/scikit-learn/scikit-learn/issues/21755 */display: inline-block !important;position: relative;}#sk-container-id-2 div.sk-text-repr-fallback {display: none;}</style><div id=\"sk-container-id-2\" class=\"sk-top-container\"><div class=\"sk-text-repr-fallback\"><pre>LinearRegression()</pre><b>In a Jupyter environment, please rerun this cell to show the HTML representation or trust the notebook. <br />On GitHub, the HTML representation is unable to render, please try loading this page with nbviewer.org.</b></div><div class=\"sk-container\" hidden><div class=\"sk-item\"><div class=\"sk-estimator sk-toggleable\"><input class=\"sk-toggleable__control sk-hidden--visually\" id=\"sk-estimator-id-2\" type=\"checkbox\" checked><label for=\"sk-estimator-id-2\" class=\"sk-toggleable__label sk-toggleable__label-arrow\">LinearRegression</label><div class=\"sk-toggleable__content\"><pre>LinearRegression()</pre></div></div></div></div></div>"
      ],
      "text/plain": [
       "LinearRegression()"
      ]
     },
     "execution_count": 17,
     "metadata": {},
     "output_type": "execute_result"
    }
   ],
   "source": [
    "from sklearn.linear_model import LinearRegression\n",
    "modelo_reg = LinearRegression()\n",
    "modelo_reg.fit(x_train, y_train)"
   ]
  },
  {
   "cell_type": "code",
   "execution_count": 18,
   "id": "b793222d",
   "metadata": {},
   "outputs": [
    {
     "data": {
      "text/plain": [
       "array([[  2.   ,   5.   , 118.552, 100.417],\n",
       "       [  4.   ,   6.   , 172.783,  77.371],\n",
       "       [  5.   ,   6.   , 192.116, 121.106],\n",
       "       [  3.   ,   2.   , 299.77 , 133.375],\n",
       "       [  3.   ,   5.   , 145.865,  91.18 ],\n",
       "       [  1.   ,   6.   ,  43.651,  84.375],\n",
       "       [  4.   ,   5.   , 168.179, 125.119],\n",
       "       [  5.   ,   5.   , 196.555, 108.395],\n",
       "       [  2.   ,   2.   , 252.298, 150.708],\n",
       "       [  1.   ,   6.   , 190.816,  87.629],\n",
       "       [  2.   ,   3.   ,  90.532, 113.526],\n",
       "       [  3.   ,   4.   , 178.433, 102.793]])"
      ]
     },
     "execution_count": 18,
     "metadata": {},
     "output_type": "execute_result"
    }
   ],
   "source": [
    "prediccion_y = modelo_reg.predict(x_test)\n",
    "prediccion_y"
   ]
  },
  {
   "cell_type": "code",
   "execution_count": 29,
   "id": "efb9cde1",
   "metadata": {},
   "outputs": [
    {
     "name": "stdout",
     "output_type": "stream",
     "text": [
      "[[ 1.00000000e+00  2.44273118e-16 -3.79064011e-18  1.57242435e-16\n",
      "  -1.69825230e-16 -2.25138918e-17 -1.33978885e-16 -7.05176666e-18\n",
      "   2.18810636e-18  3.22809910e-19 -2.68113976e-19 -1.36804728e-18]\n",
      " [ 2.51478090e-13  1.00000000e+00  1.28070600e-14  3.64164579e-14\n",
      "  -5.28871155e-14 -2.01431912e-14 -3.78384902e-14  3.14533005e-15\n",
      "  -2.87532932e-16  1.09798211e-16 -1.44935311e-16 -2.26258097e-17]\n",
      " [ 1.20572925e-12 -4.06582170e-13  1.00000000e+00  2.98009254e-15\n",
      "  -9.91603429e-15 -1.41843959e-14  2.23696145e-14 -7.85473441e-16\n",
      "  -3.74844452e-16 -1.39178651e-16 -3.74656301e-17  1.59892842e-16]\n",
      " [ 4.00412376e-13 -1.32351860e-13 -6.47791558e-14  1.00000000e+00\n",
      "  -2.88133418e-14  3.77333490e-15  2.33557111e-14 -2.99763765e-15\n",
      "   1.42297896e-16  7.93665841e-17  4.71363275e-18  1.10497059e-16]]\n"
     ]
    }
   ],
   "source": [
    "print(modelo_reg.coef_)"
   ]
  },
  {
   "cell_type": "code",
   "execution_count": 30,
   "id": "1957c551",
   "metadata": {},
   "outputs": [
    {
     "name": "stdout",
     "output_type": "stream",
     "text": [
      "[-4.39648318e-14  3.39315243e-11  1.58593139e-11 -3.76587650e-12]\n"
     ]
    }
   ],
   "source": [
    "print(modelo_reg.intercept_)"
   ]
  },
  {
   "cell_type": "code",
   "execution_count": 32,
   "id": "2d0a7019",
   "metadata": {},
   "outputs": [
    {
     "data": {
      "text/plain": [
       "1.0"
      ]
     },
     "execution_count": 32,
     "metadata": {},
     "output_type": "execute_result"
    }
   ],
   "source": [
    "from sklearn.metrics import r2_score\n",
    "r2_score(y_test, prediccion_y)"
   ]
  },
  {
   "cell_type": "code",
   "execution_count": null,
   "id": "e4c1f188",
   "metadata": {},
   "outputs": [],
   "source": []
  }
 ],
 "metadata": {
  "kernelspec": {
   "display_name": "Python 3 (ipykernel)",
   "language": "python",
   "name": "python3"
  },
  "language_info": {
   "codemirror_mode": {
    "name": "ipython",
    "version": 3
   },
   "file_extension": ".py",
   "mimetype": "text/x-python",
   "name": "python",
   "nbconvert_exporter": "python",
   "pygments_lexer": "ipython3",
   "version": "3.11.5"
  }
 },
 "nbformat": 4,
 "nbformat_minor": 5
}
